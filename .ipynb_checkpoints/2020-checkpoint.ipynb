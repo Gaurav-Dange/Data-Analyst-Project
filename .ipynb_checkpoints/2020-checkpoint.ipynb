{
 "cells": [
  {
   "cell_type": "code",
   "execution_count": 1,
   "id": "46f01050-1b80-4785-bfed-75f5ee64f8ba",
   "metadata": {},
   "outputs": [],
   "source": [
    "import numpy as np\n",
    "import pandas as pd\n",
    "import matplotlib.pyplot as plt\n",
    "import warnings\n",
    "warnings.filterwarnings(\"ignore\")\n"
   ]
  },
  {
   "cell_type": "code",
   "execution_count": null,
   "id": "622a7bf9-5ba6-41ca-a2f4-5fd07b77e703",
   "metadata": {},
   "outputs": [],
   "source": [
    "filter_path =(\"hotel_revenue.xlsx\")\n",
    "dataframes = pd.read_excel(filter_path,sheet_name=None)\n",
    "print(dataframes)"
   ]
  },
  {
   "cell_type": "code",
   "execution_count": null,
   "id": "bae71e1b-c49a-4c18-b159-92b9d46315a4",
   "metadata": {},
   "outputs": [],
   "source": [
    "df=dataframes[\"2020\"]"
   ]
  },
  {
   "cell_type": "code",
   "execution_count": null,
   "id": "66c2ecc7-f151-4286-ab57-f4e01b83ea7f",
   "metadata": {},
   "outputs": [],
   "source": [
    "for i in df.describe(include=\"object\").columns:\n",
    "    print(i)\n",
    "    print(df[i].unique())"
   ]
  },
  {
   "cell_type": "code",
   "execution_count": null,
   "id": "3bfa968a-4b75-4a77-b25f-6f58ffde48b6",
   "metadata": {},
   "outputs": [],
   "source": [
    "cancelation_count = df[\"is_canceled\"].value_counts()\n",
    "\n",
    "not_canceled = cancelation_count[0]\n",
    "canceled = cancelation_count[1]\n",
    "print(not_canceled-canceled)"
   ]
  },
  {
   "cell_type": "code",
   "execution_count": null,
   "id": "51b26340-c6f8-4266-bdb5-5016cb1c63e0",
   "metadata": {},
   "outputs": [],
   "source": [
    "cancelation_by_deposit = df.groupby(\"deposit_type\")[\"is_canceled\"].mean().sort_values(ascending = False)\n",
    "cancelation_by_deposit"
   ]
  },
  {
   "cell_type": "code",
   "execution_count": null,
   "id": "462e794d-3ad5-43d8-baca-b0d49902ed78",
   "metadata": {},
   "outputs": [],
   "source": [
    "df.columns"
   ]
  },
  {
   "cell_type": "code",
   "execution_count": null,
   "id": "60ad1cc3-5cc3-46f0-8a9f-c5fea4052d70",
   "metadata": {},
   "outputs": [],
   "source": [
    "df[\"total_stays\"] = df[\"stays_in_weekend_nights\"] + df[\"stays_in_week_nights\"]\n",
    "stay_cancellation_rate = df.groupby(\"total_stays\")[\"is_canceled\"].mean().sort_values(ascending=False)\n",
    "stay_cancellation_rate\n"
   ]
  },
  {
   "cell_type": "code",
   "execution_count": null,
   "id": "28e26696-2ffd-4d7d-9019-165f722987af",
   "metadata": {},
   "outputs": [],
   "source": [
    "df[\"arrival_date\"] = pd.to_datetime(\n",
    "    df[\"arrival_date_month\"].astype(str) + \"-\" +\n",
    "    df[\"arrival_date_day_of_month\"].astype(str) + \"-\" +\n",
    "    df[\"arrival_date_year\"].astype(str)).dt.day_name()\n"
   ]
  },
  {
   "cell_type": "code",
   "execution_count": null,
   "id": "8d316cc1-db06-47cd-984f-2e58a133487d",
   "metadata": {},
   "outputs": [],
   "source": [
    "df.head(2)"
   ]
  },
  {
   "cell_type": "code",
   "execution_count": null,
   "id": "3179e800-6742-4405-af7b-f112599be5ab",
   "metadata": {},
   "outputs": [],
   "source": [
    "cancellation_counts = df['is_canceled'].value_counts()\n",
    "canceled = cancellation_counts[1]\n",
    "not_canceled = cancellation_counts[0]\n",
    "difference = not_canceled - canceled\n",
    "print(f\"Total Canceled Bookings: {canceled}\")\n",
    "print(f\"Total Non-Canceled Bookings: {not_canceled}\")\n",
    "print(f\"Difference between Non-Canceled and Canceled: {difference}\")\n"
   ]
  },
  {
   "cell_type": "code",
   "execution_count": null,
   "id": "949000c6-e99d-49ac-89c1-d52e305d831b",
   "metadata": {},
   "outputs": [],
   "source": [
    "cancellation_rate = df.groupby('previous_cancellations')['is_canceled'].mean()\n",
    "\n",
    "print(\"Cancellation Rate based on Previous Cancellations:\")\n",
    "print(cancellation_rate)"
   ]
  },
  {
   "cell_type": "code",
   "execution_count": null,
   "id": "d01c0a8f-2f04-4d6c-9a3e-3b64d0175a3d",
   "metadata": {},
   "outputs": [],
   "source": [
    "market_segment_cancellation_rate = df.groupby('market_segment')['is_canceled'].mean().sort_values(ascending=False).tail(6)\n",
    "\n",
    "print(\"Cancellation Rate by Market Segment:\")\n",
    "print(market_segment_cancellation_rate)\n"
   ]
  },
  {
   "cell_type": "code",
   "execution_count": null,
   "id": "bcbc8408-40fc-4473-af5e-90c6536d65ef",
   "metadata": {},
   "outputs": [],
   "source": [
    "deposit_type_cancellation_rate = df.groupby('deposit_type')['is_canceled'].mean()\n",
    "\n",
    "print(\"Cancellation Rate by Deposit Type:\")\n",
    "print(deposit_type_cancellation_rate)\n"
   ]
  },
  {
   "cell_type": "code",
   "execution_count": null,
   "id": "46d3c4f0-3ae7-40fd-ba77-341c979fc5db",
   "metadata": {},
   "outputs": [],
   "source": [
    "special_requests_cancellation_rate = df.groupby('total_of_special_requests')['is_canceled'].mean()\n",
    "\n",
    "print(\"Cancellation Rate based on Total of Special Requests:\")\n",
    "print(special_requests_cancellation_rate)"
   ]
  },
  {
   "cell_type": "code",
   "execution_count": null,
   "id": "7dab061e-88e2-436b-aa38-9e8e0338c4c1",
   "metadata": {},
   "outputs": [],
   "source": [
    "df['room_type_mismatch'] = df['reserved_room_type'] != df['assigned_room_type']\n",
    "room_type_mismatch_cancellation_rate = df.groupby('room_type_mismatch')['is_canceled'].mean()\n",
    "\n",
    "print(\"Cancellation Rate based on Room Type Mismatch:\")\n",
    "print(room_type_mismatch_cancellation_rate)"
   ]
  },
  {
   "cell_type": "code",
   "execution_count": null,
   "id": "0ad90d57-b060-4750-b01a-ca2d23af25cf",
   "metadata": {},
   "outputs": [],
   "source": [
    "customer_type_cancellation_rate = df.groupby('customer_type')['is_canceled'].mean()\n",
    "\n",
    "print(\"Cancellation Rate by Customer Type:\")\n",
    "print(customer_type_cancellation_rate)\n"
   ]
  },
  {
   "cell_type": "code",
   "execution_count": null,
   "id": "5ea533a1-7d63-4c7c-b770-e83f49a9552f",
   "metadata": {},
   "outputs": [],
   "source": [
    "adults_cancellation_rate = df.groupby('adults')['is_canceled'].mean()\n",
    "\n",
    "print(\"Cancellation Rate based on Number of Adults:\")\n",
    "print(adults_cancellation_rate)\n",
    "\n",
    "children_cancellation_rate = df.groupby('children')['is_canceled'].mean()\n",
    "\n",
    "print(\"Cancellation Rate based on Number of Children:\")\n",
    "print(children_cancellation_rate)\n",
    "\n",
    "babies_cancellation_rate = df.groupby('babies')['is_canceled'].mean()\n",
    "\n",
    "print(\"Cancellation Rate based on Number of Babies:\")\n",
    "print(babies_cancellation_rate)\n"
   ]
  },
  {
   "cell_type": "code",
   "execution_count": null,
   "id": "ca76bf8b-c5e2-48f1-a211-5c5393ef7275",
   "metadata": {},
   "outputs": [],
   "source": [
    "monthly_cancellation_rate = df.groupby('arrival_date_month')['is_canceled'].mean()\n",
    "\n",
    "print(\"Cancellation Rate by Arrival Month:\")\n",
    "print(monthly_cancellation_rate)"
   ]
  },
  {
   "cell_type": "code",
   "execution_count": null,
   "id": "c04f5b53-f8d8-4fdc-8ac2-b1d3b323677f",
   "metadata": {},
   "outputs": [],
   "source": [
    "year_cancellation_rate = df.groupby(df['reservation_status_date'].dt.year)['is_canceled'].mean()\n",
    "\n",
    "print(\"Cancellation Rate by Reservation Year:\")\n",
    "print(year_cancellation_rate)"
   ]
  },
  {
   "cell_type": "code",
   "execution_count": null,
   "id": "e43ca71b-208c-4359-8124-6a95659efa84",
   "metadata": {},
   "outputs": [],
   "source": [
    "df['total_stays'] = df['stays_in_weekend_nights'] + df['stays_in_week_nights']\n",
    "stay_length_cancellation_rate = df.groupby('total_stays')['is_canceled'].mean()\n",
    "\n",
    "print(\"Cancellation Rate based on Length of Stay:\")\n",
    "print(stay_length_cancellation_rate)"
   ]
  },
  {
   "cell_type": "code",
   "execution_count": null,
   "id": "3357e6c0-b3bf-49e5-9c45-2d466968e3f3",
   "metadata": {},
   "outputs": [],
   "source": [
    "distribution_channel_cancellation_rate = df.groupby('distribution_channel')['is_canceled'].mean().sort_values(ascending=False)\n",
    "\n",
    "print(\"Cancellation Rate by Distribution Channel:\")\n",
    "print(distribution_channel_cancellation_rate)\n"
   ]
  },
  {
   "cell_type": "code",
   "execution_count": null,
   "id": "dfa36ac9-513b-4fcf-ae91-0f32b34b00e9",
   "metadata": {},
   "outputs": [],
   "source": [
    "country_cancellation_rate = df.groupby('country')['is_canceled'].mean().sort_values(ascending=False)\n",
    "\n",
    "print(\"Top 10 Countries by Cancellation Rate:\")\n",
    "print(country_cancellation_rate.head())"
   ]
  },
  {
   "cell_type": "code",
   "execution_count": null,
   "id": "26c8f54e-d64b-4d6e-a793-b97880011ad6",
   "metadata": {},
   "outputs": [],
   "source": [
    "df['arrival_day_of_week'] = pd.to_datetime(df['arrival_date_year'].astype(str) + '-' + \n",
    "                                        df['arrival_date_month'].astype(str) + '-' + \n",
    "                                        df['arrival_date_day_of_month'].astype(str)).dt.day_name()\n",
    "\n",
    "day_of_week_cancellation_rate = df.groupby('arrival_day_of_week')['is_canceled'].mean()\n",
    "\n",
    "print(\"Cancellation Rate by Day of the Week:\")\n",
    "print(day_of_week_cancellation_rate)\n"
   ]
  },
  {
   "cell_type": "code",
   "execution_count": null,
   "id": "6172d17f-ecba-4831-82c8-31ee87ac1c13",
   "metadata": {},
   "outputs": [],
   "source": [
    "special_requests_cancellation_rate = df.groupby('total_of_special_requests')['is_canceled'].mean()\n",
    "a\n",
    "print(\"Cancellation Rate based on Number of Special Requests:\")\n",
    "print(special_requests_cancellation_rate)\n"
   ]
  },
  {
   "cell_type": "code",
   "execution_count": null,
   "id": "3b2b64fa-a4fc-4fef-b43f-0345a9f54dd7",
   "metadata": {},
   "outputs": [],
   "source": [
    "pivot = pd.pivot_table(df, values='is_canceled', index=['market_segment', 'customer_type'], aggfunc=np.mean)\n",
    "\n",
    "print(\"Pivot Table of Cancellation Rate by Market Segment and Customer Type:\")\n",
    "pivot\n"
   ]
  },
  {
   "cell_type": "code",
   "execution_count": null,
   "id": "eb1f04bf-c52f-46dc-8857-7eef0c4f92b1",
   "metadata": {},
   "outputs": [],
   "source": [
    "country_mapping = {\n",
    "    'PRT': 'Portugal',\n",
    "    'IRL': 'Ireland',\n",
    "    'ESP': 'Spain',\n",
    "    'DEU': 'Germany',\n",
    "    'CN': 'China',\n",
    "    'ITA': 'Italy',\n",
    "    'GBR': 'United Kingdom',\n",
    "    'BEL': 'Belgium',\n",
    "    'RUS': 'Russia',\n",
    "    'FRA': 'France',\n",
    "    'MOZ': 'Mozambique',\n",
    "    'IRN': 'Iran',\n",
    "    'BRA': 'Brazil',\n",
    "    'KOR': 'South Korea',\n",
    "    'AGO': 'Angola',\n",
    "    'USA': 'United States',\n",
    "    'ROU': 'Romania',\n",
    "    'NOR': 'Norway',\n",
    "    'OMN': 'Oman',\n",
    "    'ARG': 'Argentina',\n",
    "    'POL': 'Poland',\n",
    "    'CHE': 'Switzerland',\n",
    "    'GRC': 'Greece',\n",
    "    'NLD': 'Netherlands',\n",
    "    'DNK': 'Denmark',\n",
    "    'SWE': 'Sweden',\n",
    "    'AUS': 'Australia',\n",
    "    'EST': 'Estonia',\n",
    "    'CZE': 'Czech Republic',\n",
    "    'FIN': 'Finland',\n",
    "    'BWA': 'Botswana',\n",
    "    'LUX': 'Luxembourg',\n",
    "    'SVN': 'Slovenia',\n",
    "    'ALB': 'Albania',\n",
    "    'IND': 'India',\n",
    "    'CHN': 'China',\n",
    "    'MEX': 'Mexico',\n",
    "    'MAR': 'Morocco',\n",
    "    'UKR': 'Ukraine',\n",
    "    'SMR': 'San Marino',\n",
    "    'LVA': 'Latvia',\n",
    "    'PRI': 'Puerto Rico',\n",
    "    'SRB': 'Serbia',\n",
    "    'CHL': 'Chile',\n",
    "    'AUT': 'Austria',\n",
    "    'BLR': 'Belarus',\n",
    "    'LTU': 'Lithuania',\n",
    "    'TUR': 'Turkey',\n",
    "    'ZAF': 'South Africa',\n",
    "    'ISR': 'Israel',\n",
    "    'CYM': 'Cayman Islands',\n",
    "    'ZMB': 'Zambia',\n",
    "    'CPV': 'Cape Verde',\n",
    "    'ZWE': 'Zimbabwe',\n",
    "    'DZA': 'Algeria',\n",
    "    'CRI': 'Costa Rica',\n",
    "    'NZL': 'New Zealand',\n",
    "    'HUN': 'Hungary',\n",
    "    'IDN': 'Indonesia',\n",
    "    'HRV': 'Croatia',\n",
    "    'KAZ': 'Kazakhstan',\n",
    "    'THA': 'Thailand',\n",
    "    'COL': 'Colombia',\n",
    "    'DOM': 'Dominican Republic',\n",
    "    'MKD': 'North Macedonia',\n",
    "    'MYS': 'Malaysia',\n",
    "    'NGA': 'Nigeria',\n",
    "    'VEN': 'Venezuela',\n",
    "    'GIB': 'Gibraltar',\n",
    "    'ARM': 'Armenia',\n",
    "    'JPN': 'Japan',\n",
    "    'LKA': 'Sri Lanka',\n",
    "    'TUN': 'Tunisia',\n",
    "    'STP': 'Sao Tome and Principe',\n",
    "    'BGR': 'Bulgaria',\n",
    "    'TWN': 'Taiwan',\n",
    "    'AZE': 'Azerbaijan',\n",
    "    'LBN': 'Lebanon',\n",
    "    'SVK': 'Slovakia',\n",
    "    'CMR': 'Cameroon',\n",
    "    'SGP': 'Singapore',\n",
    "    'SEN': 'Senegal',\n",
    "    'PER': 'Peru',\n",
    "    'EGY': 'Egypt',\n",
    "    'SAU': 'Saudi Arabia',\n",
    "    'KNA': 'Saint Kitts and Nevis',\n",
    "    'JOR': 'Jordan',\n",
    "    'KWT': 'Kuwait',\n",
    "    'ETH': 'Ethiopia',\n",
    "    'PHL': 'Philippines',\n",
    "    'LIE': 'Liechtenstein',\n",
    "    'MMR': 'Myanmar',\n",
    "    'IRQ': 'Iraq',\n",
    "    'PAN': 'Panama',\n",
    "    'GEO': 'Georgia',\n",
    "    'TMP': 'East Timor',\n",
    "    'MUS': 'Mauritius',\n",
    "    'ECU': 'Ecuador'\n",
    "}\n"
   ]
  },
  {
   "cell_type": "code",
   "execution_count": null,
   "id": "96e546da-7505-4f79-9752-95543b3a6dd5",
   "metadata": {},
   "outputs": [],
   "source": [
    "df['country'] = df['country'].map(country_mapping)\n",
    "\n",
    "df.head()"
   ]
  },
  {
   "cell_type": "code",
   "execution_count": null,
   "id": "f418b9b3-a24f-4458-a679-a5ea032c75eb",
   "metadata": {},
   "outputs": [],
   "source": [
    "# Calculate correlation matrix\n",
    "correlation_matrix = df.corr()\n",
    "\n",
    "print(\"Correlation with Cancellation:\")\n",
    "print(correlation_matrix['is_canceled'].sort_values(ascending=False))\n",
    "\n"
   ]
  },
  {
   "cell_type": "code",
   "execution_count": null,
   "id": "a3ff193f-1eab-4358-baed-4e0dcc7ea8d8",
   "metadata": {},
   "outputs": [],
   "source": [
    "cancelled_perc = df[\"is_canceled\"].value_counts(normalize = True)\n",
    "print(cancelled_perc)\n",
    "\n",
    "plt.figure(figsize = (5,4))\n",
    "\n",
    "plt.title(\"Reservation status count\")\n",
    "\n",
    "plt.bar([\"Not Canceled\",\"Canceled\"],df[\"is_canceled\"].value_counts(),edgecolor=\"k\",width = 0.7)\n",
    "plt.show()"
   ]
  },
  {
   "cell_type": "code",
   "execution_count": null,
   "id": "ae85ef18-4b63-47cb-8306-640d5743824c",
   "metadata": {},
   "outputs": [],
   "source": [
    "plt.figure(figsize=(10, 6))\n",
    "sns.barplot(x='hotel', y='is_canceled', data=df, estimator=lambda x: sum(x) / len(x))\n",
    "plt.title('Cancellation Rate by Hotel Type')\n",
    "plt.xlabel('Hotel Type')\n",
    "plt.ylabel('Cancellation Rate')\n",
    "plt.show()"
   ]
  },
  {
   "cell_type": "code",
   "execution_count": null,
   "id": "9e3b3f96-d902-44e2-9065-1ee7e6a1a72e",
   "metadata": {},
   "outputs": [],
   "source": [
    "df['day_of_week'] = df['reservation_status_date'].dt.day_name()\n",
    "plt.figure(figsize=(12, 6))\n",
    "sns.barplot(x='day_of_week', y='is_canceled', data=df, estimator=lambda x: sum(x) / len(x))\n",
    "plt.title('Cancellation Rate by Day of the Week')\n",
    "plt.xlabel('Day of the Week')\n",
    "plt.ylabel('Cancellation Rate')\n"
   ]
  },
  {
   "cell_type": "code",
   "execution_count": null,
   "id": "5aebefe8-1dd1-4ba1-856f-67f24cb0b0f7",
   "metadata": {},
   "outputs": [],
   "source": [
    "# Creating a new column to label cancellations and non-cancellations\n",
    "df['Cancellation_Status'] = df['is_canceled'].apply(lambda x: 'Canceled' if x == 1 else 'Not Canceled')\n",
    "\n",
    "# Plotting the bar chart\n",
    "plt.figure(figsize=(10, 6))\n",
    "sns.countplot(data=df, x='hotel', hue='Cancellation_Status', palette='coolwarm')\n",
    "\n",
    "# Adding titles and labels\n",
    "plt.title('Cancellations vs Non-Cancellations by Hotel Type', fontsize=16)\n",
    "plt.xlabel('Hotel Type', fontsize=14)\n",
    "plt.ylabel('Number of Bookings', fontsize=14)\n",
    "plt.legend(title='Booking Status', fontsize=12)\n",
    "plt.xticks(fontsize=12)\n",
    "plt.yticks(fontsize=12)\n",
    "\n",
    "plt.show()"
   ]
  },
  {
   "cell_type": "code",
   "execution_count": null,
   "id": "e3e115cb-e97b-448d-ac22-00c8f894120e",
   "metadata": {},
   "outputs": [],
   "source": [
    "resort_hotel = df[df['hotel'] == 'Resort Hotel']\n",
    "city_hotel = df[df['hotel'] == 'City Hotel']\n",
    "\n",
    "resort_hotel_cancellation = resort_hotel['is_canceled'].value_counts(normalize=True)\n",
    "city_hotel_cancellation = city_hotel['is_canceled'].value_counts(normalize=True)\n",
    "\n",
    "resort_hotel_adr = resort_hotel.groupby('reservation_status_date')[['adr']].mean()\n",
    "city_hotel_adr = city_hotel.groupby('reservation_status_date')[['adr']].mean()\n",
    "\n",
    "plt.figure(figsize=(20, 8))\n",
    "plt.title(\"Average Daily Rate in City and Resort Hotels\", fontsize=30)\n",
    "\n",
    "plt.plot(resort_hotel_adr.index, resort_hotel_adr['adr'], label='Resort Hotel', color='blue', linewidth=2)\n",
    "\n",
    "plt.plot(city_hotel_adr.index, city_hotel_adr['adr'], label='City Hotel', color='orange', linewidth=2)\n",
    "\n",
    "plt.xlabel('Reservation Status Date', fontsize=16)\n",
    "plt.ylabel('Average Daily Rate (ADR)', fontsize=16)\n",
    "plt.xticks(rotation=45)\n",
    "plt.legend(fontsize=14)\n",
    "\n",
    "plt.show()\n"
   ]
  },
  {
   "cell_type": "code",
   "execution_count": null,
   "id": "c5f42ce5-fc51-4d8a-a02b-a007494052c1",
   "metadata": {},
   "outputs": [],
   "source": [
    "df['reservation_status_date'] = pd.to_datetime(df['reservation_status_date'])\n",
    "\n",
    "df['reservation_month'] = df['reservation_status_date'].dt.to_period('M')\n",
    "\n",
    "monthly_reservations = df.groupby(['reservation_month', 'is_canceled']).size().unstack(fill_value=0)\n",
    "\n",
    "monthly_reservations = monthly_reservations.reset_index()\n",
    "\n",
    "monthly_reservations.columns = ['Month', 'Not Canceled', 'Canceled']\n",
    "\n",
    "plt.figure(figsize=(14, 8))\n",
    "\n",
    "bar_width = 0.4\n",
    "index = np.arange(len(monthly_reservations['Month']))\n",
    "\n",
    "plt.bar(index, monthly_reservations['Not Canceled'], bar_width, label='Not Canceled', color='green')\n",
    "\n",
    "plt.bar(index + bar_width, monthly_reservations['Canceled'], bar_width, label='Canceled', color='red')\n",
    "\n",
    "plt.title('Monthly Reservations: Canceled vs Not Canceled', fontsize=20)\n",
    "plt.xlabel('Month', fontsize=16)\n",
    "plt.ylabel('Number of Reservations', fontsize=16)\n",
    "plt.xticks(index + bar_width / 2, monthly_reservations['Month'].astype(str), rotation=45)\n",
    "plt.legend(fontsize=14)\n",
    "\n",
    "plt.show()"
   ]
  },
  {
   "cell_type": "code",
   "execution_count": null,
   "id": "b2f30b68-e76f-4e85-93f9-1c0083cc4fcf",
   "metadata": {},
   "outputs": [],
   "source": [
    "df['year_month'] = df['arrival_date_year'].astype(str) + '-' + df['arrival_date_month']\n",
    "\n",
    "year_month_cancellation_rate = df.groupby('year_month')['is_canceled'].mean()\n",
    "\n",
    "plt.figure(figsize=(12, 6))\n",
    "year_month_cancellation_rate.plot()\n",
    "plt.title('Cancellation Rate by Year-Month')\n",
    "plt.xlabel('Year-Month')\n",
    "plt.ylabel('Cancellation Rate')\n",
    "plt.xticks(rotation=45)\n",
    "plt.show()\n"
   ]
  },
  {
   "cell_type": "code",
   "execution_count": null,
   "id": "af0fb173-dbb8-4630-8251-b1b7f786ce2f",
   "metadata": {},
   "outputs": [],
   "source": [
    "adr_bins = [0, 50, 100, 150, 200, 250, 300, 350, 400, 450, 500]\n",
    "adr_labels = ['<50', '50-100', '100-150', '150-200', '200-250', '250-300', '300-350', '350-400', '400-450', '450+']\n",
    "\n",
    "df['adr_bin'] = pd.cut(df['adr'], bins=adr_bins, labels=adr_labels, right=False)\n",
    "\n",
    "cancellation_rates = df.groupby('adr_bin')['is_canceled'].mean()\n",
    "\n",
    "plt.figure(figsize=(12, 6))\n",
    "plt.plot(cancellation_rates.index, cancellation_rates.values, marker='o', linestyle='-', color='b')\n",
    "\n",
    "plt.xlabel('ADR Range')\n",
    "plt.ylabel('Average Cancellation Rate')\n",
    "plt.title('Average Cancellation Rate by ADR Range')\n",
    "plt.grid(True)\n",
    "\n",
    "plt.show()"
   ]
  },
  {
   "cell_type": "code",
   "execution_count": null,
   "id": "114079e0-d7d5-4160-87d3-5552f07d535f",
   "metadata": {},
   "outputs": [],
   "source": [
    "adr_bins = [0, 50, 100, 150, 200, 250, 300, 350, 400, 450, 500]\n",
    "adr_labels = ['<50', '50-100', '100-150', '150-200', '200-250', '250-300', '300-350', '350-400', '400-450', '450+']\n",
    "\n",
    "df['adr_bin'] = pd.cut(df['adr'], bins=adr_bins, labels=adr_labels, right=False)\n",
    "\n",
    "cancellation_rates = df.groupby('adr_bin')['is_canceled'].mean().reset_index()\n",
    "\n",
    "plt.figure(figsize=(12, 6))\n",
    "sns.barplot(data=cancellation_rates, x='adr_bin', y='is_canceled', palette='viridis')\n",
    "\n",
    "plt.xlabel('ADR Range')\n",
    "plt.ylabel('Average Cancellation Rate')\n",
    "plt.title('Average Cancellation Rate by ADR Range')\n",
    "plt.xticks(rotation=45)  \n",
    "plt.grid(visible = False)\n",
    "\n",
    "plt.show()"
   ]
  },
  {
   "cell_type": "code",
   "execution_count": null,
   "id": "a56f8d8a-b7ce-4a7f-90ab-739aeef5cbda",
   "metadata": {},
   "outputs": [],
   "source": [
    "plt.figure(figsize = (10,6))\n",
    "\n",
    "plt.pie(cancelation_by_country[\"is_canceled\"],labels = cancelation_by_country[\"Country_Name\"],autopct='%1.1f%%')\n",
    "plt.title(\"Top 10 Countries by most Cancelation \")\n",
    "\n",
    "plt.show()"
   ]
  },
  {
   "cell_type": "code",
   "execution_count": null,
   "id": "e3310b1a-f80d-4801-bac3-9663a142a189",
   "metadata": {},
   "outputs": [],
   "source": [
    "import seaborn as sns\n",
    "\n",
    "plt.figure(figsize=(12, 6))\n",
    "sns.histplot(df['lead_time'], bins=30, kde=True, color='skyblue')\n",
    "plt.title('Distribution of Lead Time')\n",
    "plt.xlabel('Lead Time (days)')\n",
    "plt.ylabel('Frequency')\n",
    "plt.show()\n"
   ]
  },
  {
   "cell_type": "code",
   "execution_count": null,
   "id": "3e73acdd-f875-4590-b183-f914aa07cce3",
   "metadata": {},
   "outputs": [],
   "source": [
    "plt.figure(figsize=(12, 6))\n",
    "sns.boxplot(data=df, x='hotel', y='adr', palette='Set2')\n",
    "plt.title('ADR Distribution by Hotel Type')\n",
    "plt.xlabel('Hotel Type')\n",
    "plt.ylabel('ADR')\n",
    "plt.show()\n"
   ]
  },
  {
   "cell_type": "code",
   "execution_count": null,
   "id": "7b77e4bc-1295-4adb-9b4c-a70ec09a2901",
   "metadata": {},
   "outputs": [],
   "source": [
    "plt.figure(figsize=(12, 6))\n",
    "sns.countplot(data=df, x='arrival_date_month', hue='is_canceled', palette='Set1')\n",
    "plt.title('Monthly Cancellations Count')\n",
    "plt.xlabel('Month')\n",
    "plt.ylabel('Number of Cancellations')\n",
    "plt.xticks(rotation=45)\n",
    "plt.show()\n"
   ]
  },
  {
   "cell_type": "code",
   "execution_count": null,
   "id": "67579967-61e1-460b-b3fc-29faf0dbbb22",
   "metadata": {},
   "outputs": [],
   "source": [
    "plt.figure(figsize=(12, 6))\n",
    "sns.scatterplot(data=df, x='lead_time', y='adr', hue='is_canceled', palette='coolwarm', alpha=0.6)\n",
    "plt.title('ADR vs. Lead Time')\n",
    "plt.xlabel('Lead Time (days)')\n",
    "plt.ylabel('ADR')\n",
    "plt.show()\n"
   ]
  },
  {
   "cell_type": "code",
   "execution_count": null,
   "id": "bf7e07d9-8bf5-415e-a180-f0e50404ad2c",
   "metadata": {},
   "outputs": [],
   "source": [
    "df['reservation_status_date'] = pd.to_datetime(df['reservation_status_date'])\n",
    "\n",
    "adr_over_time = df.groupby('reservation_status_date')['adr'].mean()\n",
    "\n",
    "plt.figure(figsize=(12, 6))\n",
    "adr_over_time.plot(kind='line', color='green')\n",
    "plt.title('Average ADR Over Time')\n",
    "plt.xlabel('Date')\n",
    "plt.ylabel('Average ADR')\n",
    "plt.show()\n"
   ]
  },
  {
   "cell_type": "code",
   "execution_count": null,
   "id": "7981fb87-7cc6-4f5e-96e6-729120028e1f",
   "metadata": {},
   "outputs": [],
   "source": [
    "df_numeric = df.select_dtypes(include=['number'])\n",
    "\n",
    "correlation_matrix = df_numeric.corr()\n",
    "\n",
    "plt.figure(figsize=(14, 10))\n",
    "sns.heatmap(correlation_matrix, annot=True, cmap='coolwarm', fmt='.2f', vmin=-1, vmax=1, linewidths=0.5)\n",
    "plt.title('Correlation Matrix of All Numeric Features')\n",
    "plt.show()"
   ]
  },
  {
   "cell_type": "code",
   "execution_count": null,
   "id": "5177a721-0523-4801-9cec-47161a073846",
   "metadata": {},
   "outputs": [],
   "source": [
    "df['is_canceled'] = pd.to_numeric(df['is_canceled'], errors='coerce')\n",
    "\n",
    "correlation_matrix = df.corr()\n",
    "\n",
    "cancellation_correlation = correlation_matrix[['is_canceled']].sort_values(by='is_canceled', ascending=False)\n",
    "\n",
    "plt.figure(figsize=(12, 8))\n",
    "sns.heatmap(cancellation_correlation, annot=True, cmap='coolwarm', fmt='.2f', vmin=-1, vmax=1)\n",
    "plt.title('Correlation of Cancellation with Other Features')\n",
    "plt.show()"
   ]
  },
  {
   "cell_type": "code",
   "execution_count": null,
   "id": "f43fad79-636a-4cc8-86bc-f47507de9330",
   "metadata": {},
   "outputs": [],
   "source": [
    "import mysql.connector\n",
    "from sqlalchemy import create_engine\n",
    "\n",
    "db_config = {\n",
    "    'user': 'root',\n",
    "    'password': 'nilesh123',\n",
    "    'host': 'localhost',\n",
    "}\n",
    "\n",
    "conn = mysql.connector.connect(**db_config)\n",
    "\n",
    "cursor = conn.cursor()\n",
    "\n",
    "cursor.execute(\"CREATE DATABASE IF NOT EXISTS hotel_db\")\n",
    "\n",
    "cursor.close()\n",
    "conn.close()"
   ]
  },
  {
   "cell_type": "code",
   "execution_count": null,
   "id": "7ceb97ff-88a3-4a69-af32-cd2adad0dfae",
   "metadata": {},
   "outputs": [],
   "source": [
    "db_config['database'] = 'hotel_db'\n",
    "conn = mysql.connector.connect(**db_config)\n",
    "cursor = conn.cursor()\n",
    "\n",
    "create_table_query = \"\"\"\n",
    "CREATE TABLE IF NOT EXISTS bookings (\n",
    "    id INT AUTO_INCREMENT PRIMARY KEY,\n",
    "    hotel VARCHAR(255),\n",
    "    is_canceled TINYINT(1),\n",
    "    lead_time INT,\n",
    "    arrival_date_year INT,\n",
    "    arrival_date_month VARCHAR(20),\n",
    "    arrival_date_week_number INT,\n",
    "    arrival_date_day_of_month INT,\n",
    "    stays_in_weekend_nights INT,\n",
    "    stays_in_week_nights INT,\n",
    "    adults INT,\n",
    "    children INT,\n",
    "    babies INT,\n",
    "    meal VARCHAR(20),\n",
    "    country VARCHAR(100),\n",
    "    market_segment VARCHAR(50),\n",
    "    distribution_channel VARCHAR(50),\n",
    "    is_repeated_guest TINYINT(1),\n",
    "    previous_cancellations INT,\n",
    "    previous_bookings_not_canceled INT,\n",
    "    reserved_room_type VARCHAR(10),\n",
    "    assigned_room_type VARCHAR(10),\n",
    "    booking_changes INT,\n",
    "    deposit_type VARCHAR(20),\n",
    "    agent FLOAT,\n",
    "    company FLOAT,\n",
    "    days_in_waiting_list INT,\n",
    "    customer_type VARCHAR(50),\n",
    "    adr FLOAT,\n",
    "    required_car_parking_spaces INT,\n",
    "    total_of_special_requests INT,\n",
    "    reservation_status VARCHAR(20),\n",
    "    reservation_status_date DATE\n",
    ")\n",
    "\"\"\"\n",
    "\n",
    "cursor.execute(create_table_query)\n",
    "\n",
    "cursor.close()\n"
   ]
  },
  {
   "cell_type": "code",
   "execution_count": null,
   "id": "d8d7c4ea-31a1-4578-89d0-1fc97f7d5e30",
   "metadata": {},
   "outputs": [],
   "source": [
    "engine = create_engine(f\"mysql+mysqlconnector://{db_config['user']}:{db_config['password']}@{db_config['host']}/{db_config['database']}\")\n",
    "\n",
    "df.to_sql('bookings', con=engine, if_exists='replace', index=False)\n",
    "\n",
    "print(\"Data imported successfully!\")\n",
    "conn.close()\n"
   ]
  }
 ],
 "metadata": {
  "kernelspec": {
   "display_name": "Python 3 (ipykernel)",
   "language": "python",
   "name": "python3"
  },
  "language_info": {
   "codemirror_mode": {
    "name": "ipython",
    "version": 3
   },
   "file_extension": ".py",
   "mimetype": "text/x-python",
   "name": "python",
   "nbconvert_exporter": "python",
   "pygments_lexer": "ipython3",
   "version": "3.12.4"
  }
 },
 "nbformat": 4,
 "nbformat_minor": 5
}
