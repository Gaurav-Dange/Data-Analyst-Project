{
 "cells": [
  {
   "cell_type": "code",
   "execution_count": 1,
   "id": "4c01e8cf-7df5-438a-afdc-c5a8e08db026",
   "metadata": {},
   "outputs": [],
   "source": [
    "import pandas as pd"
   ]
  },
  {
   "cell_type": "code",
   "execution_count": 21,
   "id": "50ca8f0b-14b0-473e-9a8d-5d56a9fe6062",
   "metadata": {
    "scrolled": true
   },
   "outputs": [
    {
     "data": {
      "text/html": [
       "<div>\n",
       "<style scoped>\n",
       "    .dataframe tbody tr th:only-of-type {\n",
       "        vertical-align: middle;\n",
       "    }\n",
       "\n",
       "    .dataframe tbody tr th {\n",
       "        vertical-align: top;\n",
       "    }\n",
       "\n",
       "    .dataframe thead th {\n",
       "        text-align: right;\n",
       "    }\n",
       "</style>\n",
       "<table border=\"1\" class=\"dataframe\">\n",
       "  <thead>\n",
       "    <tr style=\"text-align: right;\">\n",
       "      <th></th>\n",
       "      <th>sentence</th>\n",
       "    </tr>\n",
       "  </thead>\n",
       "  <tbody>\n",
       "    <tr>\n",
       "      <th>0</th>\n",
       "      <td>Big Data and Hadoop Design of HDFS, HDFS Conce...</td>\n",
       "    </tr>\n",
       "    <tr>\n",
       "      <th>1</th>\n",
       "      <td>According to Wikipedia, �Big data is collectio...</td>\n",
       "    </tr>\n",
       "    <tr>\n",
       "      <th>2</th>\n",
       "      <td></td>\n",
       "    </tr>\n",
       "    <tr>\n",
       "      <th>3</th>\n",
       "      <td>It is becoming almost impossible for the large...</td>\n",
       "    </tr>\n",
       "    <tr>\n",
       "      <th>4</th>\n",
       "      <td>NaN</td>\n",
       "    </tr>\n",
       "    <tr>\n",
       "      <th>...</th>\n",
       "      <td>...</td>\n",
       "    </tr>\n",
       "    <tr>\n",
       "      <th>98</th>\n",
       "      <td></td>\n",
       "    </tr>\n",
       "    <tr>\n",
       "      <th>99</th>\n",
       "      <td>It is becoming almost impossible for the large...</td>\n",
       "    </tr>\n",
       "    <tr>\n",
       "      <th>100</th>\n",
       "      <td>NaN</td>\n",
       "    </tr>\n",
       "    <tr>\n",
       "      <th>101</th>\n",
       "      <td>Apache Hadoop! A Solution for Big Data!</td>\n",
       "    </tr>\n",
       "    <tr>\n",
       "      <th>102</th>\n",
       "      <td>Hadoop is an open source software framework th...</td>\n",
       "    </tr>\n",
       "  </tbody>\n",
       "</table>\n",
       "<p>103 rows × 1 columns</p>\n",
       "</div>"
      ],
      "text/plain": [
       "                                              sentence\n",
       "0    Big Data and Hadoop Design of HDFS, HDFS Conce...\n",
       "1    According to Wikipedia, �Big data is collectio...\n",
       "2                                                     \n",
       "3    It is becoming almost impossible for the large...\n",
       "4                                                  NaN\n",
       "..                                                 ...\n",
       "98                                                    \n",
       "99   It is becoming almost impossible for the large...\n",
       "100                                                NaN\n",
       "101            Apache Hadoop! A Solution for Big Data!\n",
       "102  Hadoop is an open source software framework th...\n",
       "\n",
       "[103 rows x 1 columns]"
      ]
     },
     "execution_count": 21,
     "metadata": {},
     "output_type": "execute_result"
    }
   ],
   "source": [
    "cn = [\"sentence\"]\n",
    "book=pd.read_excel(\"Book1.xlsx\",header=None,names=cn)\n",
    "book\n"
   ]
  },
  {
   "cell_type": "code",
   "execution_count": 53,
   "id": "53381706-2cd1-4708-895e-1b2bff74777d",
   "metadata": {
    "scrolled": true
   },
   "outputs": [
    {
     "data": {
      "text/plain": [
       "sentence    17\n",
       "dtype: int64"
      ]
     },
     "execution_count": 53,
     "metadata": {},
     "output_type": "execute_result"
    }
   ],
   "source": [
    "book.isna().sum()"
   ]
  },
  {
   "cell_type": "code",
   "execution_count": 55,
   "id": "64339553-7dec-46c0-8889-d156818bef02",
   "metadata": {},
   "outputs": [],
   "source": [
    "book.dropna(inplace = True)"
   ]
  },
  {
   "cell_type": "code",
   "execution_count": 57,
   "id": "158f7835-b92b-42ab-a3b9-0de70d39055e",
   "metadata": {},
   "outputs": [
    {
     "data": {
      "text/plain": [
       "86"
      ]
     },
     "execution_count": 57,
     "metadata": {},
     "output_type": "execute_result"
    }
   ],
   "source": [
    "len(book)"
   ]
  },
  {
   "cell_type": "code",
   "execution_count": 59,
   "id": "f2a22272-e97e-4c60-9d83-f0fb063067e6",
   "metadata": {},
   "outputs": [
    {
     "name": "stdout",
     "output_type": "stream",
     "text": [
      "                                              sentence  Total Words\n",
      "0    Big Data and Hadoop Design of HDFS, HDFS Conce...         1556\n",
      "1    According to Wikipedia, �Big data is collectio...           82\n",
      "2                                                                 0\n",
      "3    It is becoming almost impossible for the large...          115\n",
      "5              Apache Hadoop! A Solution for Big Data!            7\n",
      "..                                                 ...          ...\n",
      "97   According to Wikipedia, �Big data is collectio...          327\n",
      "98                                                                0\n",
      "99   It is becoming almost impossible for the large...          155\n",
      "101            Apache Hadoop! A Solution for Big Data!            7\n",
      "102  Hadoop is an open source software framework th...          263\n",
      "\n",
      "[86 rows x 2 columns]\n"
     ]
    }
   ],
   "source": [
    "def count_words(sentence):\n",
    "    return len(sentence.split())\n",
    "\n",
    "book[\"Total Words\"]=book[\"sentence\"].apply(count_words)\n",
    "print(book)"
   ]
  },
  {
   "cell_type": "code",
   "execution_count": null,
   "id": "bacbd21c-44ca-4bb5-8d0c-92bc9846e88e",
   "metadata": {},
   "outputs": [],
   "source": []
  }
 ],
 "metadata": {
  "kernelspec": {
   "display_name": "Python 3 (ipykernel)",
   "language": "python",
   "name": "python3"
  },
  "language_info": {
   "codemirror_mode": {
    "name": "ipython",
    "version": 3
   },
   "file_extension": ".py",
   "mimetype": "text/x-python",
   "name": "python",
   "nbconvert_exporter": "python",
   "pygments_lexer": "ipython3",
   "version": "3.12.4"
  }
 },
 "nbformat": 4,
 "nbformat_minor": 5
}
